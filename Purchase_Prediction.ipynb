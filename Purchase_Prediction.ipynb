{
 "cells": [
  {
   "cell_type": "markdown",
   "metadata": {},
   "source": [
    "## Purchase Prediction"
   ]
  },
  {
   "cell_type": "markdown",
   "metadata": {},
   "source": [
    "![title](pipeline.png)\n",
    "\n",
    "An overall pineline for data analysis, including:\n",
    "1. Data pre-processing\n",
    "2. Feature engineering\n",
    "3. Model selection(LR, RandomForest)\n",
    "4. Cross-validation for parameter searching\n",
    "5. Feature selection\n",
    "6. learning curve & Roc curve\n",
    "7. confusion matrix\n",
    "6. Imbalanced data learning\n",
    "7. Predict & submission"
   ]
  },
  {
   "cell_type": "code",
   "execution_count": null,
   "metadata": {},
   "outputs": [],
   "source": [
    "import pandas as pd\n",
    "import seaborn as sns\n",
    "import numpy as np\n",
    "import warnings\n",
    "warnings.filterwarnings(\"ignore\")\n",
    "\n",
    "#read training dataset with Pandas\n",
    "train = pd.read_csv(\"ads_train.csv\")\n",
    "test  = pd.read_csv('ads_test.csv')"
   ]
  },
  {
   "cell_type": "code",
   "execution_count": 190,
   "metadata": {},
   "outputs": [
    {
     "name": "stdout",
     "output_type": "stream",
     "text": [
      "Feature names: \n",
      " Index(['isbuyer', 'buy_freq', 'visit_freq', 'buy_interval', 'sv_interval',\n",
      "       'expected_time_buy', 'expected_time_visit', 'last_buy', 'last_visit',\n",
      "       'multiple_buy', 'multiple_visit', 'uniq_urls', 'num_checkins', 'y_buy'],\n",
      "      dtype='object')\n"
     ]
    },
    {
     "data": {
      "text/html": [
       "<div>\n",
       "<style scoped>\n",
       "    .dataframe tbody tr th:only-of-type {\n",
       "        vertical-align: middle;\n",
       "    }\n",
       "\n",
       "    .dataframe tbody tr th {\n",
       "        vertical-align: top;\n",
       "    }\n",
       "\n",
       "    .dataframe thead th {\n",
       "        text-align: right;\n",
       "    }\n",
       "</style>\n",
       "<table border=\"1\" class=\"dataframe\">\n",
       "  <thead>\n",
       "    <tr style=\"text-align: right;\">\n",
       "      <th></th>\n",
       "      <th>isbuyer</th>\n",
       "      <th>buy_freq</th>\n",
       "      <th>visit_freq</th>\n",
       "      <th>buy_interval</th>\n",
       "      <th>sv_interval</th>\n",
       "      <th>expected_time_buy</th>\n",
       "      <th>expected_time_visit</th>\n",
       "      <th>last_buy</th>\n",
       "      <th>last_visit</th>\n",
       "      <th>multiple_buy</th>\n",
       "      <th>multiple_visit</th>\n",
       "      <th>uniq_urls</th>\n",
       "      <th>num_checkins</th>\n",
       "      <th>y_buy</th>\n",
       "    </tr>\n",
       "  </thead>\n",
       "  <tbody>\n",
       "    <tr>\n",
       "      <th>0</th>\n",
       "      <td>0</td>\n",
       "      <td>NaN</td>\n",
       "      <td>1</td>\n",
       "      <td>0.0</td>\n",
       "      <td>0.0</td>\n",
       "      <td>0.0</td>\n",
       "      <td>0.0000</td>\n",
       "      <td>106</td>\n",
       "      <td>106</td>\n",
       "      <td>0</td>\n",
       "      <td>0</td>\n",
       "      <td>169</td>\n",
       "      <td>2130</td>\n",
       "      <td>0</td>\n",
       "    </tr>\n",
       "    <tr>\n",
       "      <th>1</th>\n",
       "      <td>0</td>\n",
       "      <td>NaN</td>\n",
       "      <td>1</td>\n",
       "      <td>0.0</td>\n",
       "      <td>0.0</td>\n",
       "      <td>0.0</td>\n",
       "      <td>0.0000</td>\n",
       "      <td>6</td>\n",
       "      <td>6</td>\n",
       "      <td>0</td>\n",
       "      <td>0</td>\n",
       "      <td>150</td>\n",
       "      <td>539</td>\n",
       "      <td>0</td>\n",
       "    </tr>\n",
       "    <tr>\n",
       "      <th>2</th>\n",
       "      <td>0</td>\n",
       "      <td>NaN</td>\n",
       "      <td>2</td>\n",
       "      <td>0.0</td>\n",
       "      <td>0.5</td>\n",
       "      <td>0.0</td>\n",
       "      <td>-101.1493</td>\n",
       "      <td>101</td>\n",
       "      <td>101</td>\n",
       "      <td>0</td>\n",
       "      <td>1</td>\n",
       "      <td>103</td>\n",
       "      <td>362</td>\n",
       "      <td>0</td>\n",
       "    </tr>\n",
       "  </tbody>\n",
       "</table>\n",
       "</div>"
      ],
      "text/plain": [
       "   isbuyer  buy_freq  visit_freq  buy_interval  sv_interval  \\\n",
       "0        0       NaN           1           0.0          0.0   \n",
       "1        0       NaN           1           0.0          0.0   \n",
       "2        0       NaN           2           0.0          0.5   \n",
       "\n",
       "   expected_time_buy  expected_time_visit  last_buy  last_visit  multiple_buy  \\\n",
       "0                0.0               0.0000       106         106             0   \n",
       "1                0.0               0.0000         6           6             0   \n",
       "2                0.0            -101.1493       101         101             0   \n",
       "\n",
       "   multiple_visit  uniq_urls  num_checkins  y_buy  \n",
       "0               0        169          2130      0  \n",
       "1               0        150           539      0  \n",
       "2               1        103           362      0  "
      ]
     },
     "execution_count": 190,
     "metadata": {},
     "output_type": "execute_result"
    }
   ],
   "source": [
    "#how the data looks like\n",
    "print('Feature names: \\n',train.columns)\n",
    "train.head(3)"
   ]
  },
  {
   "cell_type": "code",
   "execution_count": 191,
   "metadata": {},
   "outputs": [
    {
     "data": {
      "text/html": [
       "<div>\n",
       "<style scoped>\n",
       "    .dataframe tbody tr th:only-of-type {\n",
       "        vertical-align: middle;\n",
       "    }\n",
       "\n",
       "    .dataframe tbody tr th {\n",
       "        vertical-align: top;\n",
       "    }\n",
       "\n",
       "    .dataframe thead th {\n",
       "        text-align: right;\n",
       "    }\n",
       "</style>\n",
       "<table border=\"1\" class=\"dataframe\">\n",
       "  <thead>\n",
       "    <tr style=\"text-align: right;\">\n",
       "      <th></th>\n",
       "      <th>isbuyer</th>\n",
       "      <th>buy_freq</th>\n",
       "      <th>visit_freq</th>\n",
       "      <th>buy_interval</th>\n",
       "      <th>sv_interval</th>\n",
       "      <th>expected_time_buy</th>\n",
       "      <th>expected_time_visit</th>\n",
       "      <th>last_buy</th>\n",
       "      <th>last_visit</th>\n",
       "      <th>multiple_buy</th>\n",
       "      <th>multiple_visit</th>\n",
       "      <th>uniq_urls</th>\n",
       "      <th>num_checkins</th>\n",
       "      <th>y_buy</th>\n",
       "    </tr>\n",
       "  </thead>\n",
       "  <tbody>\n",
       "    <tr>\n",
       "      <th>count</th>\n",
       "      <td>38209.000000</td>\n",
       "      <td>1620.000000</td>\n",
       "      <td>38209.000000</td>\n",
       "      <td>38209.000000</td>\n",
       "      <td>38209.000000</td>\n",
       "      <td>38209.000000</td>\n",
       "      <td>38209.000000</td>\n",
       "      <td>38209.000000</td>\n",
       "      <td>38209.000000</td>\n",
       "      <td>38209.000000</td>\n",
       "      <td>38209.000000</td>\n",
       "      <td>38209.000000</td>\n",
       "      <td>38209.000000</td>\n",
       "      <td>38209.000000</td>\n",
       "    </tr>\n",
       "    <tr>\n",
       "      <th>mean</th>\n",
       "      <td>0.042398</td>\n",
       "      <td>1.239506</td>\n",
       "      <td>1.868199</td>\n",
       "      <td>0.197411</td>\n",
       "      <td>5.862179</td>\n",
       "      <td>-0.174376</td>\n",
       "      <td>-10.136685</td>\n",
       "      <td>64.657384</td>\n",
       "      <td>64.657384</td>\n",
       "      <td>0.005967</td>\n",
       "      <td>0.277526</td>\n",
       "      <td>86.594624</td>\n",
       "      <td>723.834515</td>\n",
       "      <td>0.004502</td>\n",
       "    </tr>\n",
       "    <tr>\n",
       "      <th>std</th>\n",
       "      <td>0.201499</td>\n",
       "      <td>0.840259</td>\n",
       "      <td>2.996675</td>\n",
       "      <td>3.855662</td>\n",
       "      <td>17.726455</td>\n",
       "      <td>4.784059</td>\n",
       "      <td>31.796845</td>\n",
       "      <td>53.453475</td>\n",
       "      <td>53.453475</td>\n",
       "      <td>0.077018</td>\n",
       "      <td>0.447784</td>\n",
       "      <td>61.941089</td>\n",
       "      <td>1286.380572</td>\n",
       "      <td>0.066943</td>\n",
       "    </tr>\n",
       "    <tr>\n",
       "      <th>min</th>\n",
       "      <td>0.000000</td>\n",
       "      <td>1.000000</td>\n",
       "      <td>0.000000</td>\n",
       "      <td>0.000000</td>\n",
       "      <td>0.000000</td>\n",
       "      <td>-181.923800</td>\n",
       "      <td>-187.615600</td>\n",
       "      <td>0.000000</td>\n",
       "      <td>0.000000</td>\n",
       "      <td>0.000000</td>\n",
       "      <td>0.000000</td>\n",
       "      <td>-1.000000</td>\n",
       "      <td>1.000000</td>\n",
       "      <td>0.000000</td>\n",
       "    </tr>\n",
       "    <tr>\n",
       "      <th>25%</th>\n",
       "      <td>0.000000</td>\n",
       "      <td>1.000000</td>\n",
       "      <td>1.000000</td>\n",
       "      <td>0.000000</td>\n",
       "      <td>0.000000</td>\n",
       "      <td>0.000000</td>\n",
       "      <td>0.000000</td>\n",
       "      <td>18.000000</td>\n",
       "      <td>18.000000</td>\n",
       "      <td>0.000000</td>\n",
       "      <td>0.000000</td>\n",
       "      <td>30.000000</td>\n",
       "      <td>127.000000</td>\n",
       "      <td>0.000000</td>\n",
       "    </tr>\n",
       "    <tr>\n",
       "      <th>50%</th>\n",
       "      <td>0.000000</td>\n",
       "      <td>1.000000</td>\n",
       "      <td>1.000000</td>\n",
       "      <td>0.000000</td>\n",
       "      <td>0.000000</td>\n",
       "      <td>0.000000</td>\n",
       "      <td>0.000000</td>\n",
       "      <td>50.000000</td>\n",
       "      <td>50.000000</td>\n",
       "      <td>0.000000</td>\n",
       "      <td>0.000000</td>\n",
       "      <td>75.000000</td>\n",
       "      <td>319.000000</td>\n",
       "      <td>0.000000</td>\n",
       "    </tr>\n",
       "    <tr>\n",
       "      <th>75%</th>\n",
       "      <td>0.000000</td>\n",
       "      <td>1.000000</td>\n",
       "      <td>2.000000</td>\n",
       "      <td>0.000000</td>\n",
       "      <td>0.125000</td>\n",
       "      <td>0.000000</td>\n",
       "      <td>0.000000</td>\n",
       "      <td>105.000000</td>\n",
       "      <td>105.000000</td>\n",
       "      <td>0.000000</td>\n",
       "      <td>1.000000</td>\n",
       "      <td>155.000000</td>\n",
       "      <td>803.000000</td>\n",
       "      <td>0.000000</td>\n",
       "    </tr>\n",
       "    <tr>\n",
       "      <th>max</th>\n",
       "      <td>1.000000</td>\n",
       "      <td>15.000000</td>\n",
       "      <td>84.000000</td>\n",
       "      <td>174.625000</td>\n",
       "      <td>184.916700</td>\n",
       "      <td>84.285710</td>\n",
       "      <td>91.401920</td>\n",
       "      <td>188.000000</td>\n",
       "      <td>188.000000</td>\n",
       "      <td>1.000000</td>\n",
       "      <td>1.000000</td>\n",
       "      <td>206.000000</td>\n",
       "      <td>37091.000000</td>\n",
       "      <td>1.000000</td>\n",
       "    </tr>\n",
       "  </tbody>\n",
       "</table>\n",
       "</div>"
      ],
      "text/plain": [
       "            isbuyer     buy_freq    visit_freq  buy_interval   sv_interval  \\\n",
       "count  38209.000000  1620.000000  38209.000000  38209.000000  38209.000000   \n",
       "mean       0.042398     1.239506      1.868199      0.197411      5.862179   \n",
       "std        0.201499     0.840259      2.996675      3.855662     17.726455   \n",
       "min        0.000000     1.000000      0.000000      0.000000      0.000000   \n",
       "25%        0.000000     1.000000      1.000000      0.000000      0.000000   \n",
       "50%        0.000000     1.000000      1.000000      0.000000      0.000000   \n",
       "75%        0.000000     1.000000      2.000000      0.000000      0.125000   \n",
       "max        1.000000    15.000000     84.000000    174.625000    184.916700   \n",
       "\n",
       "       expected_time_buy  expected_time_visit      last_buy    last_visit  \\\n",
       "count       38209.000000         38209.000000  38209.000000  38209.000000   \n",
       "mean           -0.174376           -10.136685     64.657384     64.657384   \n",
       "std             4.784059            31.796845     53.453475     53.453475   \n",
       "min          -181.923800          -187.615600      0.000000      0.000000   \n",
       "25%             0.000000             0.000000     18.000000     18.000000   \n",
       "50%             0.000000             0.000000     50.000000     50.000000   \n",
       "75%             0.000000             0.000000    105.000000    105.000000   \n",
       "max            84.285710            91.401920    188.000000    188.000000   \n",
       "\n",
       "       multiple_buy  multiple_visit     uniq_urls  num_checkins         y_buy  \n",
       "count  38209.000000    38209.000000  38209.000000  38209.000000  38209.000000  \n",
       "mean       0.005967        0.277526     86.594624    723.834515      0.004502  \n",
       "std        0.077018        0.447784     61.941089   1286.380572      0.066943  \n",
       "min        0.000000        0.000000     -1.000000      1.000000      0.000000  \n",
       "25%        0.000000        0.000000     30.000000    127.000000      0.000000  \n",
       "50%        0.000000        0.000000     75.000000    319.000000      0.000000  \n",
       "75%        0.000000        1.000000    155.000000    803.000000      0.000000  \n",
       "max        1.000000        1.000000    206.000000  37091.000000      1.000000  "
      ]
     },
     "execution_count": 191,
     "metadata": {},
     "output_type": "execute_result"
    }
   ],
   "source": [
    "train.describe()  "
   ]
  },
  {
   "cell_type": "code",
   "execution_count": 192,
   "metadata": {},
   "outputs": [
    {
     "name": "stdout",
     "output_type": "stream",
     "text": [
      "<class 'pandas.core.frame.DataFrame'>\n",
      "RangeIndex: 38209 entries, 0 to 38208\n",
      "Data columns (total 14 columns):\n",
      "isbuyer                38209 non-null int64\n",
      "buy_freq               1620 non-null float64\n",
      "visit_freq             38209 non-null int64\n",
      "buy_interval           38209 non-null float64\n",
      "sv_interval            38209 non-null float64\n",
      "expected_time_buy      38209 non-null float64\n",
      "expected_time_visit    38209 non-null float64\n",
      "last_buy               38209 non-null int64\n",
      "last_visit             38209 non-null int64\n",
      "multiple_buy           38209 non-null int64\n",
      "multiple_visit         38209 non-null int64\n",
      "uniq_urls              38209 non-null int64\n",
      "num_checkins           38209 non-null int64\n",
      "y_buy                  38209 non-null int64\n",
      "dtypes: float64(5), int64(9)\n",
      "memory usage: 4.1 MB\n"
     ]
    }
   ],
   "source": [
    "# to see if there exists missing data\n",
    "train.info()"
   ]
  },
  {
   "cell_type": "markdown",
   "metadata": {},
   "source": [
    "#  Data Pre-processing:\n",
    "## 1. Fill NaN values with 0\n",
    "## 2. Replace -1 with 0\n",
    "## 3. OneHotEncoding For categorical data"
   ]
  },
  {
   "cell_type": "code",
   "execution_count": 193,
   "metadata": {},
   "outputs": [
    {
     "data": {
      "text/html": [
       "<div>\n",
       "<style scoped>\n",
       "    .dataframe tbody tr th:only-of-type {\n",
       "        vertical-align: middle;\n",
       "    }\n",
       "\n",
       "    .dataframe tbody tr th {\n",
       "        vertical-align: top;\n",
       "    }\n",
       "\n",
       "    .dataframe thead th {\n",
       "        text-align: right;\n",
       "    }\n",
       "</style>\n",
       "<table border=\"1\" class=\"dataframe\">\n",
       "  <thead>\n",
       "    <tr style=\"text-align: right;\">\n",
       "      <th></th>\n",
       "      <th>buy_freq</th>\n",
       "      <th>visit_freq</th>\n",
       "      <th>buy_interval</th>\n",
       "      <th>sv_interval</th>\n",
       "      <th>expected_time_buy</th>\n",
       "      <th>expected_time_visit</th>\n",
       "      <th>last_buy</th>\n",
       "      <th>last_visit</th>\n",
       "      <th>uniq_urls</th>\n",
       "      <th>num_checkins</th>\n",
       "      <th>y_buy</th>\n",
       "      <th>isbuyer_0</th>\n",
       "      <th>isbuyer_1</th>\n",
       "      <th>multiple_buy_0</th>\n",
       "      <th>multiple_buy_1</th>\n",
       "      <th>multiple_visit_0</th>\n",
       "      <th>multiple_visit_1</th>\n",
       "    </tr>\n",
       "  </thead>\n",
       "  <tbody>\n",
       "    <tr>\n",
       "      <th>0</th>\n",
       "      <td>0.0</td>\n",
       "      <td>1</td>\n",
       "      <td>0.0</td>\n",
       "      <td>0.000000</td>\n",
       "      <td>0.0</td>\n",
       "      <td>0.000000</td>\n",
       "      <td>106</td>\n",
       "      <td>106</td>\n",
       "      <td>169</td>\n",
       "      <td>2130</td>\n",
       "      <td>0</td>\n",
       "      <td>1</td>\n",
       "      <td>0</td>\n",
       "      <td>1</td>\n",
       "      <td>0</td>\n",
       "      <td>1</td>\n",
       "      <td>0</td>\n",
       "    </tr>\n",
       "    <tr>\n",
       "      <th>1</th>\n",
       "      <td>0.0</td>\n",
       "      <td>1</td>\n",
       "      <td>0.0</td>\n",
       "      <td>0.000000</td>\n",
       "      <td>0.0</td>\n",
       "      <td>0.000000</td>\n",
       "      <td>6</td>\n",
       "      <td>6</td>\n",
       "      <td>150</td>\n",
       "      <td>539</td>\n",
       "      <td>0</td>\n",
       "      <td>1</td>\n",
       "      <td>0</td>\n",
       "      <td>1</td>\n",
       "      <td>0</td>\n",
       "      <td>1</td>\n",
       "      <td>0</td>\n",
       "    </tr>\n",
       "    <tr>\n",
       "      <th>2</th>\n",
       "      <td>0.0</td>\n",
       "      <td>2</td>\n",
       "      <td>0.0</td>\n",
       "      <td>0.500000</td>\n",
       "      <td>0.0</td>\n",
       "      <td>-101.149300</td>\n",
       "      <td>101</td>\n",
       "      <td>101</td>\n",
       "      <td>103</td>\n",
       "      <td>362</td>\n",
       "      <td>0</td>\n",
       "      <td>1</td>\n",
       "      <td>0</td>\n",
       "      <td>1</td>\n",
       "      <td>0</td>\n",
       "      <td>0</td>\n",
       "      <td>1</td>\n",
       "    </tr>\n",
       "    <tr>\n",
       "      <th>3</th>\n",
       "      <td>0.0</td>\n",
       "      <td>1</td>\n",
       "      <td>0.0</td>\n",
       "      <td>0.000000</td>\n",
       "      <td>0.0</td>\n",
       "      <td>0.000000</td>\n",
       "      <td>42</td>\n",
       "      <td>42</td>\n",
       "      <td>17</td>\n",
       "      <td>35</td>\n",
       "      <td>0</td>\n",
       "      <td>1</td>\n",
       "      <td>0</td>\n",
       "      <td>1</td>\n",
       "      <td>0</td>\n",
       "      <td>1</td>\n",
       "      <td>0</td>\n",
       "    </tr>\n",
       "    <tr>\n",
       "      <th>4</th>\n",
       "      <td>0.0</td>\n",
       "      <td>3</td>\n",
       "      <td>0.0</td>\n",
       "      <td>45.479170</td>\n",
       "      <td>0.0</td>\n",
       "      <td>-34.144730</td>\n",
       "      <td>64</td>\n",
       "      <td>64</td>\n",
       "      <td>100</td>\n",
       "      <td>298</td>\n",
       "      <td>0</td>\n",
       "      <td>1</td>\n",
       "      <td>0</td>\n",
       "      <td>1</td>\n",
       "      <td>0</td>\n",
       "      <td>0</td>\n",
       "      <td>1</td>\n",
       "    </tr>\n",
       "    <tr>\n",
       "      <th>5</th>\n",
       "      <td>0.0</td>\n",
       "      <td>1</td>\n",
       "      <td>0.0</td>\n",
       "      <td>0.000000</td>\n",
       "      <td>0.0</td>\n",
       "      <td>0.000000</td>\n",
       "      <td>13</td>\n",
       "      <td>13</td>\n",
       "      <td>53</td>\n",
       "      <td>247</td>\n",
       "      <td>0</td>\n",
       "      <td>1</td>\n",
       "      <td>0</td>\n",
       "      <td>1</td>\n",
       "      <td>0</td>\n",
       "      <td>1</td>\n",
       "      <td>0</td>\n",
       "    </tr>\n",
       "    <tr>\n",
       "      <th>6</th>\n",
       "      <td>1.0</td>\n",
       "      <td>2</td>\n",
       "      <td>0.0</td>\n",
       "      <td>0.958333</td>\n",
       "      <td>0.0</td>\n",
       "      <td>-20.671200</td>\n",
       "      <td>21</td>\n",
       "      <td>21</td>\n",
       "      <td>65</td>\n",
       "      <td>175</td>\n",
       "      <td>0</td>\n",
       "      <td>0</td>\n",
       "      <td>1</td>\n",
       "      <td>1</td>\n",
       "      <td>0</td>\n",
       "      <td>0</td>\n",
       "      <td>1</td>\n",
       "    </tr>\n",
       "    <tr>\n",
       "      <th>7</th>\n",
       "      <td>0.0</td>\n",
       "      <td>1</td>\n",
       "      <td>0.0</td>\n",
       "      <td>0.000000</td>\n",
       "      <td>0.0</td>\n",
       "      <td>0.000000</td>\n",
       "      <td>151</td>\n",
       "      <td>151</td>\n",
       "      <td>24</td>\n",
       "      <td>198</td>\n",
       "      <td>0</td>\n",
       "      <td>1</td>\n",
       "      <td>0</td>\n",
       "      <td>1</td>\n",
       "      <td>0</td>\n",
       "      <td>1</td>\n",
       "      <td>0</td>\n",
       "    </tr>\n",
       "    <tr>\n",
       "      <th>8</th>\n",
       "      <td>0.0</td>\n",
       "      <td>1</td>\n",
       "      <td>0.0</td>\n",
       "      <td>0.000000</td>\n",
       "      <td>0.0</td>\n",
       "      <td>0.000000</td>\n",
       "      <td>68</td>\n",
       "      <td>68</td>\n",
       "      <td>64</td>\n",
       "      <td>305</td>\n",
       "      <td>0</td>\n",
       "      <td>1</td>\n",
       "      <td>0</td>\n",
       "      <td>1</td>\n",
       "      <td>0</td>\n",
       "      <td>1</td>\n",
       "      <td>0</td>\n",
       "    </tr>\n",
       "    <tr>\n",
       "      <th>9</th>\n",
       "      <td>0.0</td>\n",
       "      <td>2</td>\n",
       "      <td>0.0</td>\n",
       "      <td>15.958330</td>\n",
       "      <td>0.0</td>\n",
       "      <td>-6.683471</td>\n",
       "      <td>14</td>\n",
       "      <td>14</td>\n",
       "      <td>101</td>\n",
       "      <td>1105</td>\n",
       "      <td>0</td>\n",
       "      <td>1</td>\n",
       "      <td>0</td>\n",
       "      <td>1</td>\n",
       "      <td>0</td>\n",
       "      <td>0</td>\n",
       "      <td>1</td>\n",
       "    </tr>\n",
       "    <tr>\n",
       "      <th>10</th>\n",
       "      <td>0.0</td>\n",
       "      <td>1</td>\n",
       "      <td>0.0</td>\n",
       "      <td>0.000000</td>\n",
       "      <td>0.0</td>\n",
       "      <td>0.000000</td>\n",
       "      <td>19</td>\n",
       "      <td>19</td>\n",
       "      <td>30</td>\n",
       "      <td>76</td>\n",
       "      <td>0</td>\n",
       "      <td>1</td>\n",
       "      <td>0</td>\n",
       "      <td>1</td>\n",
       "      <td>0</td>\n",
       "      <td>1</td>\n",
       "      <td>0</td>\n",
       "    </tr>\n",
       "    <tr>\n",
       "      <th>11</th>\n",
       "      <td>0.0</td>\n",
       "      <td>2</td>\n",
       "      <td>0.0</td>\n",
       "      <td>27.250000</td>\n",
       "      <td>0.0</td>\n",
       "      <td>-124.610000</td>\n",
       "      <td>138</td>\n",
       "      <td>138</td>\n",
       "      <td>172</td>\n",
       "      <td>828</td>\n",
       "      <td>0</td>\n",
       "      <td>1</td>\n",
       "      <td>0</td>\n",
       "      <td>1</td>\n",
       "      <td>0</td>\n",
       "      <td>0</td>\n",
       "      <td>1</td>\n",
       "    </tr>\n",
       "    <tr>\n",
       "      <th>12</th>\n",
       "      <td>0.0</td>\n",
       "      <td>3</td>\n",
       "      <td>0.0</td>\n",
       "      <td>8.395833</td>\n",
       "      <td>0.0</td>\n",
       "      <td>2.534722</td>\n",
       "      <td>3</td>\n",
       "      <td>3</td>\n",
       "      <td>146</td>\n",
       "      <td>398</td>\n",
       "      <td>0</td>\n",
       "      <td>1</td>\n",
       "      <td>0</td>\n",
       "      <td>1</td>\n",
       "      <td>0</td>\n",
       "      <td>0</td>\n",
       "      <td>1</td>\n",
       "    </tr>\n",
       "    <tr>\n",
       "      <th>13</th>\n",
       "      <td>0.0</td>\n",
       "      <td>0</td>\n",
       "      <td>0.0</td>\n",
       "      <td>0.000000</td>\n",
       "      <td>0.0</td>\n",
       "      <td>0.000000</td>\n",
       "      <td>0</td>\n",
       "      <td>0</td>\n",
       "      <td>0</td>\n",
       "      <td>0</td>\n",
       "      <td>0</td>\n",
       "      <td>0</td>\n",
       "      <td>0</td>\n",
       "      <td>0</td>\n",
       "      <td>0</td>\n",
       "      <td>0</td>\n",
       "      <td>0</td>\n",
       "    </tr>\n",
       "    <tr>\n",
       "      <th>14</th>\n",
       "      <td>0.0</td>\n",
       "      <td>1</td>\n",
       "      <td>0.0</td>\n",
       "      <td>0.000000</td>\n",
       "      <td>0.0</td>\n",
       "      <td>0.000000</td>\n",
       "      <td>145</td>\n",
       "      <td>145</td>\n",
       "      <td>179</td>\n",
       "      <td>1215</td>\n",
       "      <td>0</td>\n",
       "      <td>1</td>\n",
       "      <td>0</td>\n",
       "      <td>1</td>\n",
       "      <td>0</td>\n",
       "      <td>1</td>\n",
       "      <td>0</td>\n",
       "    </tr>\n",
       "    <tr>\n",
       "      <th>15</th>\n",
       "      <td>0.0</td>\n",
       "      <td>8</td>\n",
       "      <td>0.0</td>\n",
       "      <td>15.994050</td>\n",
       "      <td>0.0</td>\n",
       "      <td>12.569260</td>\n",
       "      <td>1</td>\n",
       "      <td>1</td>\n",
       "      <td>64</td>\n",
       "      <td>167</td>\n",
       "      <td>0</td>\n",
       "      <td>1</td>\n",
       "      <td>0</td>\n",
       "      <td>1</td>\n",
       "      <td>0</td>\n",
       "      <td>0</td>\n",
       "      <td>1</td>\n",
       "    </tr>\n",
       "    <tr>\n",
       "      <th>16</th>\n",
       "      <td>0.0</td>\n",
       "      <td>1</td>\n",
       "      <td>0.0</td>\n",
       "      <td>0.000000</td>\n",
       "      <td>0.0</td>\n",
       "      <td>0.000000</td>\n",
       "      <td>39</td>\n",
       "      <td>39</td>\n",
       "      <td>165</td>\n",
       "      <td>3883</td>\n",
       "      <td>0</td>\n",
       "      <td>1</td>\n",
       "      <td>0</td>\n",
       "      <td>1</td>\n",
       "      <td>0</td>\n",
       "      <td>1</td>\n",
       "      <td>0</td>\n",
       "    </tr>\n",
       "    <tr>\n",
       "      <th>17</th>\n",
       "      <td>0.0</td>\n",
       "      <td>1</td>\n",
       "      <td>0.0</td>\n",
       "      <td>0.000000</td>\n",
       "      <td>0.0</td>\n",
       "      <td>0.000000</td>\n",
       "      <td>34</td>\n",
       "      <td>34</td>\n",
       "      <td>96</td>\n",
       "      <td>219</td>\n",
       "      <td>0</td>\n",
       "      <td>1</td>\n",
       "      <td>0</td>\n",
       "      <td>1</td>\n",
       "      <td>0</td>\n",
       "      <td>1</td>\n",
       "      <td>0</td>\n",
       "    </tr>\n",
       "    <tr>\n",
       "      <th>18</th>\n",
       "      <td>0.0</td>\n",
       "      <td>1</td>\n",
       "      <td>0.0</td>\n",
       "      <td>0.000000</td>\n",
       "      <td>0.0</td>\n",
       "      <td>0.000000</td>\n",
       "      <td>135</td>\n",
       "      <td>135</td>\n",
       "      <td>143</td>\n",
       "      <td>1011</td>\n",
       "      <td>0</td>\n",
       "      <td>1</td>\n",
       "      <td>0</td>\n",
       "      <td>1</td>\n",
       "      <td>0</td>\n",
       "      <td>1</td>\n",
       "      <td>0</td>\n",
       "    </tr>\n",
       "    <tr>\n",
       "      <th>19</th>\n",
       "      <td>0.0</td>\n",
       "      <td>1</td>\n",
       "      <td>0.0</td>\n",
       "      <td>0.000000</td>\n",
       "      <td>0.0</td>\n",
       "      <td>0.000000</td>\n",
       "      <td>77</td>\n",
       "      <td>77</td>\n",
       "      <td>81</td>\n",
       "      <td>219</td>\n",
       "      <td>0</td>\n",
       "      <td>1</td>\n",
       "      <td>0</td>\n",
       "      <td>1</td>\n",
       "      <td>0</td>\n",
       "      <td>1</td>\n",
       "      <td>0</td>\n",
       "    </tr>\n",
       "  </tbody>\n",
       "</table>\n",
       "</div>"
      ],
      "text/plain": [
       "    buy_freq  visit_freq  buy_interval  sv_interval  expected_time_buy  \\\n",
       "0        0.0           1           0.0     0.000000                0.0   \n",
       "1        0.0           1           0.0     0.000000                0.0   \n",
       "2        0.0           2           0.0     0.500000                0.0   \n",
       "3        0.0           1           0.0     0.000000                0.0   \n",
       "4        0.0           3           0.0    45.479170                0.0   \n",
       "5        0.0           1           0.0     0.000000                0.0   \n",
       "6        1.0           2           0.0     0.958333                0.0   \n",
       "7        0.0           1           0.0     0.000000                0.0   \n",
       "8        0.0           1           0.0     0.000000                0.0   \n",
       "9        0.0           2           0.0    15.958330                0.0   \n",
       "10       0.0           1           0.0     0.000000                0.0   \n",
       "11       0.0           2           0.0    27.250000                0.0   \n",
       "12       0.0           3           0.0     8.395833                0.0   \n",
       "13       0.0           0           0.0     0.000000                0.0   \n",
       "14       0.0           1           0.0     0.000000                0.0   \n",
       "15       0.0           8           0.0    15.994050                0.0   \n",
       "16       0.0           1           0.0     0.000000                0.0   \n",
       "17       0.0           1           0.0     0.000000                0.0   \n",
       "18       0.0           1           0.0     0.000000                0.0   \n",
       "19       0.0           1           0.0     0.000000                0.0   \n",
       "\n",
       "    expected_time_visit  last_buy  last_visit  uniq_urls  num_checkins  y_buy  \\\n",
       "0              0.000000       106         106        169          2130      0   \n",
       "1              0.000000         6           6        150           539      0   \n",
       "2           -101.149300       101         101        103           362      0   \n",
       "3              0.000000        42          42         17            35      0   \n",
       "4            -34.144730        64          64        100           298      0   \n",
       "5              0.000000        13          13         53           247      0   \n",
       "6            -20.671200        21          21         65           175      0   \n",
       "7              0.000000       151         151         24           198      0   \n",
       "8              0.000000        68          68         64           305      0   \n",
       "9             -6.683471        14          14        101          1105      0   \n",
       "10             0.000000        19          19         30            76      0   \n",
       "11          -124.610000       138         138        172           828      0   \n",
       "12             2.534722         3           3        146           398      0   \n",
       "13             0.000000         0           0          0             0      0   \n",
       "14             0.000000       145         145        179          1215      0   \n",
       "15            12.569260         1           1         64           167      0   \n",
       "16             0.000000        39          39        165          3883      0   \n",
       "17             0.000000        34          34         96           219      0   \n",
       "18             0.000000       135         135        143          1011      0   \n",
       "19             0.000000        77          77         81           219      0   \n",
       "\n",
       "    isbuyer_0  isbuyer_1  multiple_buy_0  multiple_buy_1  multiple_visit_0  \\\n",
       "0           1          0               1               0                 1   \n",
       "1           1          0               1               0                 1   \n",
       "2           1          0               1               0                 0   \n",
       "3           1          0               1               0                 1   \n",
       "4           1          0               1               0                 0   \n",
       "5           1          0               1               0                 1   \n",
       "6           0          1               1               0                 0   \n",
       "7           1          0               1               0                 1   \n",
       "8           1          0               1               0                 1   \n",
       "9           1          0               1               0                 0   \n",
       "10          1          0               1               0                 1   \n",
       "11          1          0               1               0                 0   \n",
       "12          1          0               1               0                 0   \n",
       "13          0          0               0               0                 0   \n",
       "14          1          0               1               0                 1   \n",
       "15          1          0               1               0                 0   \n",
       "16          1          0               1               0                 1   \n",
       "17          1          0               1               0                 1   \n",
       "18          1          0               1               0                 1   \n",
       "19          1          0               1               0                 1   \n",
       "\n",
       "    multiple_visit_1  \n",
       "0                  0  \n",
       "1                  0  \n",
       "2                  1  \n",
       "3                  0  \n",
       "4                  1  \n",
       "5                  0  \n",
       "6                  1  \n",
       "7                  0  \n",
       "8                  0  \n",
       "9                  1  \n",
       "10                 0  \n",
       "11                 1  \n",
       "12                 1  \n",
       "13                 0  \n",
       "14                 0  \n",
       "15                 1  \n",
       "16                 0  \n",
       "17                 0  \n",
       "18                 0  \n",
       "19                 0  "
      ]
     },
     "execution_count": 193,
     "metadata": {},
     "output_type": "execute_result"
    }
   ],
   "source": [
    "#Data pre-processing\n",
    "\n",
    "# fill column \"buy_freq\" NaN values with 0\n",
    "train.buy_freq.fillna(0, inplace=True)\n",
    "test.buy_freq.fillna(0, inplace=True)\n",
    "\n",
    "\n",
    "#Onehot encoding for the categoricial data using sklearn\n",
    "#Categorical data: [\"isbuyer\",\"multiple_buy\",\"multiple_visit\"]\n",
    "\n",
    "features = [\"isbuyer\",\"multiple_buy\",\"multiple_visit\"]\n",
    "\n",
    "for i,feat in enumerate(features):\n",
    "    train = train.join(pd.get_dummies(train[feat],prefix=feat))\n",
    "    test = test.join(pd.get_dummies(test[feat],prefix=feat))\n",
    "    \n",
    "    \n",
    "# in the column of uniq_urls, replace -1 with 0\n",
    "train.loc[train['uniq_urls'] == -1] = 0 \n",
    "test.loc[test['uniq_urls'] == -1] = 0\n",
    "\n",
    "#drop redundant columns\n",
    "train = train.drop(features, axis=1)\n",
    "test = test.drop(features, axis=1)\n",
    "train.head(20)"
   ]
  },
  {
   "cell_type": "code",
   "execution_count": 194,
   "metadata": {},
   "outputs": [
    {
     "name": "stdout",
     "output_type": "stream",
     "text": [
      "x_train shape: (38209, 16) \n",
      " y_train shape: (38209,)\n",
      "x_test shape: (16375, 16)\n"
     ]
    }
   ],
   "source": [
    "# split training data and testing data\n",
    "y_train = train['y_buy'].values\n",
    "x_train = train.drop(['y_buy'], axis=1).values\n",
    "print(\"x_train shape:\", x_train.shape,'\\n','y_train shape:',y_train.shape)\n",
    "\n",
    "x_test = test.values\n",
    "print('x_test shape:',x_test.shape)"
   ]
  },
  {
   "cell_type": "markdown",
   "metadata": {},
   "source": [
    "# 1. Random Forest\n",
    "## 1.1 Feature importance ranking"
   ]
  },
  {
   "cell_type": "code",
   "execution_count": 8,
   "metadata": {},
   "outputs": [],
   "source": [
    "from sklearn.ensemble import RandomForestClassifier\n",
    "from sklearn.model_selection import cross_val_score, train_test_split\n",
    "\n",
    "feat_labels = np.array(list(test.columns))\n",
    "\n",
    "forest = RandomForestClassifier(n_estimators=100,\n",
    "                                random_state=0,\n",
    "                                n_jobs=-1)\n",
    "\n",
    "forest.fit(x_train, y_train)\n",
    "\n",
    "#get the importance of every features\n",
    "importances = forest.feature_importances_\n",
    "\n",
    "indices = np.argsort(importances)[::-1]"
   ]
  },
  {
   "cell_type": "code",
   "execution_count": 9,
   "metadata": {},
   "outputs": [
    {
     "name": "stdout",
     "output_type": "stream",
     "text": [
      " 1) num_checkins                   0.256681\n",
      " 2) uniq_urls                      0.178658\n",
      " 3) expected_time_visit            0.143983\n",
      " 4) sv_interval                    0.135669\n",
      " 5) last_buy                       0.076475\n",
      " 6) last_visit                     0.070974\n",
      " 7) visit_freq                     0.068531\n",
      " 8) buy_interval                   0.018584\n",
      " 9) expected_time_buy              0.016534\n",
      "10) buy_freq                       0.013609\n",
      "11) isbuyer_1                      0.004389\n",
      "12) multiple_buy_1                 0.003950\n",
      "13) isbuyer_0                      0.003792\n",
      "14) multiple_buy_0                 0.003665\n",
      "15) multiple_visit_0               0.002635\n",
      "16) multiple_visit_1               0.001871\n"
     ]
    },
    {
     "data": {
      "image/png": "[encoded data removed]",
      "text/plain": [
       "<Figure size 432x288 with 1 Axes>"
      ]
     },
     "metadata": {
      "needs_background": "light"
     },
     "output_type": "display_data"
    }
   ],
   "source": [
    "import matplotlib.pyplot as plt\n",
    "%matplotlib inline\n",
    "for f in range(x_train.shape[1]):\n",
    "    print(\"%2d) %-*s %f\" % (f + 1, 30, \n",
    "                            feat_labels[indices[f]], \n",
    "                            importances[indices[f]]))\n",
    "\n",
    "plt.title('Feature Importances')\n",
    "plt.bar(range(x_train.shape[1]), \n",
    "        importances[indices],\n",
    "        color='lightblue', \n",
    "        align='center')\n",
    "\n",
    "plt.xticks(range(x_train.shape[1]), \n",
    "           feat_labels[indices], rotation=90)\n",
    "plt.xlim([-1, x_train.shape[1]])\n",
    "plt.tight_layout()\n",
    "#plt.savefig('./random_forest.png', dpi=300)\n",
    "plt.show()"
   ]
  },
  {
   "cell_type": "markdown",
   "metadata": {},
   "source": [
    "## 1.2 gridsearch+CV for optimal parameters"
   ]
  },
  {
   "cell_type": "code",
   "execution_count": 30,
   "metadata": {},
   "outputs": [
    {
     "name": "stdout",
     "output_type": "stream",
     "text": [
      "-0.07261218604204259\n",
      "{'max_features': 0.93, 'n_estimators': 200}\n"
     ]
    }
   ],
   "source": [
    "# find the best parameters of RF model by gridsearch\n",
    "#let's drink a coffee\n",
    "from sklearn.model_selection import GridSearchCV\n",
    "from sklearn.ensemble import RandomForestClassifier\n",
    "\n",
    "param_grid = {\n",
    "               'n_estimators': [180,200,220],\n",
    "              'max_features':[0.9,0.93,0.96]\n",
    "             }\n",
    "\n",
    "rf = RandomForestClassifier()\n",
    "rfc = GridSearchCV(rf, param_grid, scoring = 'neg_log_loss', cv=5, n_jobs=2)\n",
    "rfc.fit(x_train, y_train)\n",
    "print(rfc.best_score_)\n",
    "print(rfc.best_params_)"
   ]
  },
  {
   "cell_type": "markdown",
   "metadata": {},
   "source": [
    "## 1.3 Learning curve to show model performance"
   ]
  },
  {
   "cell_type": "code",
   "execution_count": 10,
   "metadata": {},
   "outputs": [
    {
     "data": {
      "image/png": "[encoded data removed]",
      "text/plain": [
       "<Figure size 432x288 with 1 Axes>"
      ]
     },
     "metadata": {
      "needs_background": "light"
     },
     "output_type": "display_data"
    }
   ],
   "source": [
    "from sklearn.model_selection import ShuffleSplit\n",
    "from sklearn.model_selection import learning_curve\n",
    "\n",
    "# To check if our model is overfitting or not\n",
    "\n",
    "def plot_learning_curve(estimator, title, X, y, ylim=None, cv=None,\n",
    "                        n_jobs=1, train_sizes=np.linspace(.1, 1.0, 5)):\n",
    "    \n",
    "    plt.figure()\n",
    "    plt.title(title)\n",
    "    if ylim is not None:\n",
    "        plt.ylim(*ylim)\n",
    "    plt.xlabel(\"Training examples\")\n",
    "    plt.ylabel(\"Score\")\n",
    "    train_sizes, train_scores, test_scores = learning_curve(\n",
    "        estimator, X, y, cv=cv, n_jobs=n_jobs, train_sizes=train_sizes)\n",
    "    train_scores_mean = np.mean(train_scores, axis=1)\n",
    "    train_scores_std = np.std(train_scores, axis=1)\n",
    "    test_scores_mean = np.mean(test_scores, axis=1)\n",
    "    test_scores_std = np.std(test_scores, axis=1)\n",
    "    plt.grid()\n",
    "\n",
    "    plt.fill_between(train_sizes, train_scores_mean - train_scores_std,\n",
    "                     train_scores_mean + train_scores_std, alpha=0.1,\n",
    "                     color=\"r\")\n",
    "    plt.fill_between(train_sizes, test_scores_mean - test_scores_std,\n",
    "                     test_scores_mean + test_scores_std, alpha=0.1, color=\"g\")\n",
    "    plt.plot(train_sizes, train_scores_mean, 'o-', color=\"r\",\n",
    "             label=\"Training score\")\n",
    "    plt.plot(train_sizes, test_scores_mean, 'o-', color=\"g\",\n",
    "             label=\"Cross-validation score\")\n",
    "\n",
    "    plt.legend(loc=\"best\")\n",
    "    return plt\n",
    "\n",
    "\n",
    "title = \"Learning Curves (Random Forest, n_estimators = 200, max_features=0.93)\"\n",
    "cv = ShuffleSplit(n_splits=5,test_size=0.2, random_state=0)\n",
    "estimator = RandomForestClassifier(n_estimators = 200, max_features=0.93)\n",
    "plot_learning_curve(estimator, title, x_train, y_train, (0.98, 1.01), cv=cv, n_jobs=4)\n",
    "\n",
    "plt.show()"
   ]
  },
  {
   "cell_type": "markdown",
   "metadata": {},
   "source": [
    "#### the gap between traing curve and validation curve is small which implies that the model is not overfitting."
   ]
  },
  {
   "cell_type": "markdown",
   "metadata": {},
   "source": [
    "## 1.4 Confusion matrix"
   ]
  },
  {
   "cell_type": "code",
   "execution_count": 98,
   "metadata": {},
   "outputs": [
    {
     "name": "stdout",
     "output_type": "stream",
     "text": [
      "Confusion Matrix\n"
     ]
    },
    {
     "data": {
      "text/plain": [
       "array([[38041,     2],\n",
       "       [    0,   166]], dtype=int64)"
      ]
     },
     "execution_count": 98,
     "metadata": {},
     "output_type": "execute_result"
    }
   ],
   "source": [
    "# let's see how the confusion matrix looks like\n",
    "\n",
    "from sklearn.metrics import confusion_matrix\n",
    "\n",
    "RF = RandomForestClassifier(n_estimators=200, max_features=0.93)\n",
    "RF.fit(x_train,y_train)\n",
    "preds = RF.predict(x_train)\n",
    "print('Confusion Matrix')\n",
    "confusion_matrix(preds, y_train)"
   ]
  },
  {
   "cell_type": "markdown",
   "metadata": {},
   "source": [
    "**<font color=red>RandomForest has good performance on learning curve as well as the confusion matrix results, though the data set is highly unbalanced.</font>**"
   ]
  },
  {
   "cell_type": "markdown",
   "metadata": {},
   "source": [
    "## 1.5 ROC Curve plot"
   ]
  },
  {
   "cell_type": "code",
   "execution_count": 114,
   "metadata": {},
   "outputs": [
    {
     "data": {
      "image/png": "[encoded data removed]",
      "text/plain": [
       "<Figure size 504x504 with 1 Axes>"
      ]
     },
     "metadata": {},
     "output_type": "display_data"
    }
   ],
   "source": [
    "# Plot ROC curve and compute AUC\n",
    "from sklearn.metrics import roc_curve, auc\n",
    "\n",
    "def plot_roc(actual, predictions):\n",
    "    false_positive_rate, true_positive_rate, thresholds = roc_curve(actual, predictions)\n",
    "    roc_auc = auc(false_positive_rate, true_positive_rate)\n",
    "    plt.title('Receiver Operating Characteristic')\n",
    "    plt.plot(false_positive_rate, true_positive_rate, 'b',\n",
    "    label='AUC = %0.2f'% roc_auc)\n",
    "    plt.legend(loc='lower right')\n",
    "    plt.plot([0,1],[0,1],'r--')\n",
    "    plt.xlim([-0.1,1.2])\n",
    "    plt.ylim([-0.1,1.2])\n",
    "    plt.ylabel('True Positive Rate')\n",
    "    plt.xlabel('False Positive Rate')\n",
    "    plt.show()\n",
    "    \n",
    "plot_roc(y_train,RF.predict_proba(x_train)[:,1])"
   ]
  },
  {
   "cell_type": "markdown",
   "metadata": {},
   "source": [
    "# 2. Logistic Regression"
   ]
  },
  {
   "cell_type": "markdown",
   "metadata": {},
   "source": [
    "## 2.1 Data scaling for fast convergence"
   ]
  },
  {
   "cell_type": "code",
   "execution_count": 139,
   "metadata": {},
   "outputs": [
    {
     "data": {
      "text/html": [
       "<div>\n",
       "<style scoped>\n",
       "    .dataframe tbody tr th:only-of-type {\n",
       "        vertical-align: middle;\n",
       "    }\n",
       "\n",
       "    .dataframe tbody tr th {\n",
       "        vertical-align: top;\n",
       "    }\n",
       "\n",
       "    .dataframe thead th {\n",
       "        text-align: right;\n",
       "    }\n",
       "</style>\n",
       "<table border=\"1\" class=\"dataframe\">\n",
       "  <thead>\n",
       "    <tr style=\"text-align: right;\">\n",
       "      <th></th>\n",
       "      <th>y_buy</th>\n",
       "      <th>isbuyer_0</th>\n",
       "      <th>isbuyer_1</th>\n",
       "      <th>multiple_buy_0</th>\n",
       "      <th>multiple_buy_1</th>\n",
       "      <th>multiple_visit_0</th>\n",
       "      <th>multiple_visit_1</th>\n",
       "      <th>buy_freq_scaled</th>\n",
       "      <th>visit_freq_scaled</th>\n",
       "      <th>buy_interval_scaled</th>\n",
       "      <th>sv_interval_scaled</th>\n",
       "      <th>expected_time_buy_scaled</th>\n",
       "      <th>expected_time_visit_scaled</th>\n",
       "      <th>last_buy_scaled</th>\n",
       "      <th>last_visit_scaled</th>\n",
       "      <th>uniq_urls_scaled</th>\n",
       "      <th>num_checkins_scaled</th>\n",
       "    </tr>\n",
       "  </thead>\n",
       "  <tbody>\n",
       "    <tr>\n",
       "      <th>0</th>\n",
       "      <td>0</td>\n",
       "      <td>1</td>\n",
       "      <td>0</td>\n",
       "      <td>1</td>\n",
       "      <td>0</td>\n",
       "      <td>1</td>\n",
       "      <td>0</td>\n",
       "      <td>-0.171555</td>\n",
       "      <td>-0.282756</td>\n",
       "      <td>-0.051195</td>\n",
       "      <td>-0.329860</td>\n",
       "      <td>0.036443</td>\n",
       "      <td>0.317806</td>\n",
       "      <td>0.778640</td>\n",
       "      <td>0.778640</td>\n",
       "      <td>1.330614</td>\n",
       "      <td>1.097796</td>\n",
       "    </tr>\n",
       "    <tr>\n",
       "      <th>1</th>\n",
       "      <td>0</td>\n",
       "      <td>1</td>\n",
       "      <td>0</td>\n",
       "      <td>1</td>\n",
       "      <td>0</td>\n",
       "      <td>1</td>\n",
       "      <td>0</td>\n",
       "      <td>-0.171555</td>\n",
       "      <td>-0.282756</td>\n",
       "      <td>-0.051195</td>\n",
       "      <td>-0.329860</td>\n",
       "      <td>0.036443</td>\n",
       "      <td>0.317806</td>\n",
       "      <td>-1.086072</td>\n",
       "      <td>-1.086072</td>\n",
       "      <td>1.023761</td>\n",
       "      <td>-0.139483</td>\n",
       "    </tr>\n",
       "    <tr>\n",
       "      <th>2</th>\n",
       "      <td>0</td>\n",
       "      <td>1</td>\n",
       "      <td>0</td>\n",
       "      <td>1</td>\n",
       "      <td>0</td>\n",
       "      <td>0</td>\n",
       "      <td>1</td>\n",
       "      <td>-0.171555</td>\n",
       "      <td>0.050819</td>\n",
       "      <td>-0.051195</td>\n",
       "      <td>-0.301636</td>\n",
       "      <td>0.036443</td>\n",
       "      <td>-2.868740</td>\n",
       "      <td>0.685404</td>\n",
       "      <td>0.685404</td>\n",
       "      <td>0.264704</td>\n",
       "      <td>-0.277132</td>\n",
       "    </tr>\n",
       "    <tr>\n",
       "      <th>3</th>\n",
       "      <td>0</td>\n",
       "      <td>1</td>\n",
       "      <td>0</td>\n",
       "      <td>1</td>\n",
       "      <td>0</td>\n",
       "      <td>1</td>\n",
       "      <td>0</td>\n",
       "      <td>-0.171555</td>\n",
       "      <td>-0.282756</td>\n",
       "      <td>-0.051195</td>\n",
       "      <td>-0.329860</td>\n",
       "      <td>0.036443</td>\n",
       "      <td>0.317806</td>\n",
       "      <td>-0.414776</td>\n",
       "      <td>-0.414776</td>\n",
       "      <td>-1.124208</td>\n",
       "      <td>-0.531431</td>\n",
       "    </tr>\n",
       "    <tr>\n",
       "      <th>4</th>\n",
       "      <td>0</td>\n",
       "      <td>1</td>\n",
       "      <td>0</td>\n",
       "      <td>1</td>\n",
       "      <td>0</td>\n",
       "      <td>0</td>\n",
       "      <td>1</td>\n",
       "      <td>-0.171555</td>\n",
       "      <td>0.384393</td>\n",
       "      <td>-0.051195</td>\n",
       "      <td>2.237327</td>\n",
       "      <td>0.036443</td>\n",
       "      <td>-0.757869</td>\n",
       "      <td>-0.004539</td>\n",
       "      <td>-0.004539</td>\n",
       "      <td>0.216254</td>\n",
       "      <td>-0.326903</td>\n",
       "    </tr>\n",
       "  </tbody>\n",
       "</table>\n",
       "</div>"
      ],
      "text/plain": [
       "   y_buy  isbuyer_0  isbuyer_1  multiple_buy_0  multiple_buy_1  \\\n",
       "0      0          1          0               1               0   \n",
       "1      0          1          0               1               0   \n",
       "2      0          1          0               1               0   \n",
       "3      0          1          0               1               0   \n",
       "4      0          1          0               1               0   \n",
       "\n",
       "   multiple_visit_0  multiple_visit_1  buy_freq_scaled  visit_freq_scaled  \\\n",
       "0                 1                 0        -0.171555          -0.282756   \n",
       "1                 1                 0        -0.171555          -0.282756   \n",
       "2                 0                 1        -0.171555           0.050819   \n",
       "3                 1                 0        -0.171555          -0.282756   \n",
       "4                 0                 1        -0.171555           0.384393   \n",
       "\n",
       "   buy_interval_scaled  sv_interval_scaled  expected_time_buy_scaled  \\\n",
       "0            -0.051195           -0.329860                  0.036443   \n",
       "1            -0.051195           -0.329860                  0.036443   \n",
       "2            -0.051195           -0.301636                  0.036443   \n",
       "3            -0.051195           -0.329860                  0.036443   \n",
       "4            -0.051195            2.237327                  0.036443   \n",
       "\n",
       "   expected_time_visit_scaled  last_buy_scaled  last_visit_scaled  \\\n",
       "0                    0.317806         0.778640           0.778640   \n",
       "1                    0.317806        -1.086072          -1.086072   \n",
       "2                   -2.868740         0.685404           0.685404   \n",
       "3                    0.317806        -0.414776          -0.414776   \n",
       "4                   -0.757869        -0.004539          -0.004539   \n",
       "\n",
       "   uniq_urls_scaled  num_checkins_scaled  \n",
       "0          1.330614             1.097796  \n",
       "1          1.023761            -0.139483  \n",
       "2          0.264704            -0.277132  \n",
       "3         -1.124208            -0.531431  \n",
       "4          0.216254            -0.326903  "
      ]
     },
     "execution_count": 139,
     "metadata": {},
     "output_type": "execute_result"
    }
   ],
   "source": [
    "# logistic regression would be inaccurate when our quantitative data has different scales.\n",
    "# So the first thing is to re-scale the data.\n",
    "\n",
    "# [\"buy_freq\",\"visit_freq\",\"buy_interval\",\"sv_interval\",\"expected_time_buy\",\n",
    "# \"expected_time_visit\",\"last_buy\",\"last_visit\",\"uniq_urls\",\"num_checkins\"]\n",
    "\n",
    "import sklearn.preprocessing as preprocessing\n",
    "scaler = preprocessing.StandardScaler()\n",
    "\n",
    "scale_feats = [\"buy_freq\",\"visit_freq\",\"buy_interval\",\"sv_interval\",\"expected_time_buy\",\"expected_time_visit\",\n",
    "               \"last_buy\",\"last_visit\",\"uniq_urls\",\"num_checkins\"]\n",
    "\n",
    "for feat in scale_feats:\n",
    "    #Traing data\n",
    "    scale = scaler.fit(np.array(train[feat]).reshape(-1,1))\n",
    "    train[feat+'_scaled'] = scaler.fit_transform(np.array(train[feat]).reshape(-1,1), scale)\n",
    "    #Testing data\n",
    "    scale = scaler.fit(np.array(test[feat]).reshape(-1,1))\n",
    "    test[feat+'_scaled'] = scaler.fit_transform(np.array(test[feat]).reshape(-1,1), scale)\n",
    "\n",
    "train = train.drop(scale_feats, axis=1)\n",
    "test = test.drop(scale_feats, axis=1)\n",
    "train.head(5)"
   ]
  },
  {
   "cell_type": "code",
   "execution_count": 140,
   "metadata": {},
   "outputs": [
    {
     "name": "stdout",
     "output_type": "stream",
     "text": [
      "x_train shape: (38209, 16) \n",
      " y_train shape: (38209,)\n",
      "x_test shape: (16375, 16)\n"
     ]
    }
   ],
   "source": [
    "#Get the traing data and testing data\n",
    "y_train = train['y_buy'].values\n",
    "x_train = train.drop(['y_buy'], axis=1).values\n",
    "\n",
    "x_test = test.values\n",
    "\n",
    "print(\"x_train shape:\", x_train.shape,'\\n','y_train shape:',y_train.shape)\n",
    "print('x_test shape:',x_test.shape)"
   ]
  },
  {
   "cell_type": "markdown",
   "metadata": {},
   "source": [
    "## 2.2 gridsearch+CV for optimal parameters"
   ]
  },
  {
   "cell_type": "code",
   "execution_count": 40,
   "metadata": {},
   "outputs": [
    {
     "name": "stderr",
     "output_type": "stream",
     "text": [
      "C:\\Users\\Think\\.julia\\conda\\3\\lib\\site-packages\\sklearn\\linear_model\\logistic.py:433: FutureWarning: Default solver will be changed to 'lbfgs' in 0.22. Specify a solver to silence this warning.\n",
      "  FutureWarning)\n"
     ]
    },
    {
     "name": "stdout",
     "output_type": "stream",
     "text": [
      "0.9954984427752623\n",
      "{'C': 0.1, 'penalty': 'l1'}\n"
     ]
    }
   ],
   "source": [
    "# Logistic Regression Model and GridSearch for best parameters\n",
    "\n",
    "from sklearn.linear_model import LogisticRegression\n",
    "from sklearn.model_selection import GridSearchCV\n",
    "\n",
    "param_grid = {\n",
    "               'C': [0.1,0.2,0.3,0.4],\n",
    "              'penalty':[\"l1\",\"l2\"]\n",
    "             }\n",
    "\n",
    "lr = LogisticRegression()\n",
    "lrc = GridSearchCV(lr, param_grid, scoring = 'accuracy', cv=5, n_jobs=2)\n",
    "lrc.fit(x_train, y_train)\n",
    "print(lrc.best_score_)\n",
    "print(lrc.best_params_)"
   ]
  },
  {
   "cell_type": "markdown",
   "metadata": {},
   "source": [
    "## 2.3 Feature selection using LASSO"
   ]
  },
  {
   "cell_type": "code",
   "execution_count": 124,
   "metadata": {},
   "outputs": [
    {
     "name": "stderr",
     "output_type": "stream",
     "text": [
      "C:\\Users\\Think\\.julia\\conda\\3\\lib\\site-packages\\sklearn\\linear_model\\logistic.py:433: FutureWarning: Default solver will be changed to 'lbfgs' in 0.22. Specify a solver to silence this warning.\n",
      "  FutureWarning)\n"
     ]
    },
    {
     "data": {
      "text/plain": [
       "Text(0.5, 1.0, 'LASSO for feature selection')"
      ]
     },
     "execution_count": 124,
     "metadata": {},
     "output_type": "execute_result"
    },
    {
     "data": {
      "image/png": "[encoded data removed]",
      "text/plain": [
       "<Figure size 504x504 with 1 Axes>"
      ]
     },
     "metadata": {},
     "output_type": "display_data"
    }
   ],
   "source": [
    "#By choosing the \"l1\" penalty(LASSO), the features that contribute less to the final results will have close to 0 weights.\n",
    "import seaborn as sns\n",
    "sns.set(rc={'figure.figsize':(7,7)})\n",
    "\n",
    "LR = LogisticRegression(C=0.1, penalty='l1')\n",
    "LR.fit(x_train,y_train)\n",
    "\n",
    "feats = list(train.columns)\n",
    "feats.pop(0)\n",
    "\n",
    "ax = sns.barplot(LR.coef_[0],feats)\n",
    "ax.set_title(\"LASSO for feature selection\")"
   ]
  },
  {
   "cell_type": "markdown",
   "metadata": {},
   "source": [
    "## 2.4 Confusion Matrix"
   ]
  },
  {
   "cell_type": "code",
   "execution_count": 122,
   "metadata": {},
   "outputs": [
    {
     "data": {
      "text/plain": [
       "array([[33051,   104],\n",
       "       [ 4990,    64]], dtype=int64)"
      ]
     },
     "execution_count": 122,
     "metadata": {},
     "output_type": "execute_result"
    }
   ],
   "source": [
    "# confusion matrix\n",
    "preds = LR.predict(x_train)\n",
    "confusion_matrix(preds, y_train)"
   ]
  },
  {
   "cell_type": "markdown",
   "metadata": {},
   "source": [
    "**<font color=red>Although LR achieved high classification accuracy of 0.995, due to the highly unbalanced data distribution, it could cause serious bias when fitting the model.</font>**"
   ]
  },
  {
   "cell_type": "markdown",
   "metadata": {},
   "source": [
    "## 2.5 ROC Curve plot"
   ]
  },
  {
   "cell_type": "code",
   "execution_count": 123,
   "metadata": {},
   "outputs": [
    {
     "data": {
      "image/png": "[encoded data removed]",
      "text/plain": [
       "<Figure size 504x504 with 1 Axes>"
      ]
     },
     "metadata": {},
     "output_type": "display_data"
    }
   ],
   "source": [
    "plot_roc(y_train, LR.predict_proba(x_train)[:,1])"
   ]
  },
  {
   "cell_type": "markdown",
   "metadata": {},
   "source": [
    "# 4. XGboost"
   ]
  },
  {
   "cell_type": "markdown",
   "metadata": {},
   "source": [
    "## 4.1 Build xgboost model"
   ]
  },
  {
   "cell_type": "code",
   "execution_count": 199,
   "metadata": {},
   "outputs": [],
   "source": [
    "import xgboost as xgb\n",
    "from xgboost.sklearn import XGBClassifier\n",
    "from sklearn import metrics\n",
    "\n",
    "\n",
    "def modelfit(alg, x_train, x_test, y_train, useTrainCV=True, cv_folds=5, early_stopping_rounds=50):\n",
    "\n",
    "    if useTrainCV:\n",
    "        xgb_param = alg.get_xgb_params()\n",
    "        xgtrain = xgb.DMatrix(x_train, label=y_train)\n",
    "        xgtest = xgb.DMatrix(x_test)\n",
    "        cvresult = xgb.cv(xgb_param, xgtrain, num_boost_round=alg.get_params()['n_estimators'], nfold=cv_folds,\n",
    "             early_stopping_rounds=early_stopping_rounds)\n",
    "        alg.set_params(n_estimators=cvresult.shape[0])\n",
    "    \n",
    "    #fit model\n",
    "    alg.fit(x_train, y_train, eval_metric='auc')\n",
    "        \n",
    "    #prediction on training data\n",
    "    dtrain_predictions = alg.predict(x_train)\n",
    "    dtrain_predprob = alg.predict_proba(x_train)[:,1]\n",
    "        \n",
    "    #output of detailed information\n",
    "    print(\"\\nbuilding model...\")\n",
    "    print(\"Accuracy : %.4g\" % metrics.accuracy_score(y_train, dtrain_predictions))\n",
    "    print(\"AUC on training set: %f\" % metrics.roc_auc_score(y_train, dtrain_predprob))\n",
    "    print(\"confusion matrix:\\n\")\n",
    "    print(confusion_matrix(dtrain_predictions, y_train))"
   ]
  },
  {
   "cell_type": "markdown",
   "metadata": {},
   "source": [
    "## 4.2 GridSeach"
   ]
  },
  {
   "cell_type": "code",
   "execution_count": 179,
   "metadata": {},
   "outputs": [
    {
     "data": {
      "text/plain": [
       "({'max_depth': 4, 'min_child_weight': 5}, 0.8564923889934348)"
      ]
     },
     "execution_count": 179,
     "metadata": {},
     "output_type": "execute_result"
    }
   ],
   "source": [
    "# GridSearch for optimal parameter: max_depth, min_child_weight\n",
    "param_test1 = {\n",
    "    'max_depth':[4,5,6],\n",
    "    'min_child_weight':[4,5,6]\n",
    "}\n",
    "gsearch1 = GridSearchCV(estimator = XGBClassifier( learning_rate=0.1, n_estimators=140, max_depth=5,\n",
    "                                        min_child_weight=2, gamma=0, subsample=0.8, colsample_bytree=0.8,\n",
    "                                        objective= 'binary:logistic', nthread=4, scale_pos_weight=1,seed=27), \n",
    "                       param_grid = param_test1, scoring='roc_auc',n_jobs=4,iid=False, cv=5)\n",
    "gsearch1.fit(x_train, y_train)\n",
    "\n",
    "gsearch1.best_params_,gsearch1.best_score_"
   ]
  },
  {
   "cell_type": "code",
   "execution_count": 181,
   "metadata": {},
   "outputs": [
    {
     "data": {
      "text/plain": [
       "({'gamma': 0.0}, 0.8564923889934348)"
      ]
     },
     "execution_count": 181,
     "metadata": {},
     "output_type": "execute_result"
    }
   ],
   "source": [
    "# GridSearch for optimal parameter: gamma\n",
    "param_test2 = {\n",
    "    'gamma':[i/10.0 for i in range(0,5)]\n",
    "}\n",
    "gsearch2 = GridSearchCV(estimator = XGBClassifier( learning_rate =0.1, n_estimators=140, max_depth=4,\n",
    "                                        min_child_weight=5, gamma=0, subsample=0.8, colsample_bytree=0.8,\n",
    "                                        objective= 'binary:logistic', nthread=4, scale_pos_weight=1,seed=27), \n",
    "                       param_grid = param_test2, scoring='roc_auc',n_jobs=4,iid=False, cv=5)\n",
    "gsearch2.fit(x_train, y_train)\n",
    "\n",
    "gsearch2.best_params_,gsearch2.best_score_"
   ]
  },
  {
   "cell_type": "code",
   "execution_count": 182,
   "metadata": {},
   "outputs": [
    {
     "data": {
      "text/plain": [
       "GridSearchCV(cv=5, error_score='raise-deprecating',\n",
       "       estimator=XGBClassifier(base_score=0.5, booster='gbtree', colsample_bylevel=1,\n",
       "       colsample_bytree=0.8, gamma=0, learning_rate=0.1, max_delta_step=0,\n",
       "       max_depth=4, min_child_weight=5, missing=None, n_estimators=177,\n",
       "       n_jobs=1, nthread=4, objective='binary:logistic', random_state=0,\n",
       "       reg_alpha=0, reg_lambda=1, scale_pos_weight=1, seed=27, silent=True,\n",
       "       subsample=0.8),\n",
       "       fit_params=None, iid=False, n_jobs=4,\n",
       "       param_grid={'subsample': [0.6, 0.7, 0.8, 0.9], 'colsample_bytree': [0.6, 0.7, 0.8, 0.9]},\n",
       "       pre_dispatch='2*n_jobs', refit=True, return_train_score='warn',\n",
       "       scoring='roc_auc', verbose=0)"
      ]
     },
     "execution_count": 182,
     "metadata": {},
     "output_type": "execute_result"
    }
   ],
   "source": [
    "# GridSearch for optimal parameter: subsample nad colsample_bytree\n",
    "param_test3 = {\n",
    "    'subsample':[i/10.0 for i in range(6,10)],\n",
    "    'colsample_bytree':[i/10.0 for i in range(6,10)]\n",
    "}\n",
    "gsearch3 = GridSearchCV(estimator = XGBClassifier( learning_rate =0.1, n_estimators=177, max_depth=4,\n",
    "                                        min_child_weight=5, gamma=0, subsample=0.8, colsample_bytree=0.8,\n",
    "                                        objective= 'binary:logistic', nthread=4, scale_pos_weight=1,seed=27), \n",
    "                       param_grid = param_test3, scoring='roc_auc',n_jobs=4,iid=False, cv=5)\n",
    "gsearch3.fit(x_train, y_train)"
   ]
  },
  {
   "cell_type": "code",
   "execution_count": 183,
   "metadata": {},
   "outputs": [
    {
     "data": {
      "text/plain": [
       "({'colsample_bytree': 0.8, 'subsample': 0.8}, 0.8530825828874391)"
      ]
     },
     "execution_count": 183,
     "metadata": {},
     "output_type": "execute_result"
    }
   ],
   "source": [
    "gsearch3.best_params_,gsearch3.best_score_"
   ]
  },
  {
   "cell_type": "code",
   "execution_count": 184,
   "metadata": {},
   "outputs": [
    {
     "data": {
      "text/plain": [
       "({'reg_alpha': 0}, 0.8586206189155143)"
      ]
     },
     "execution_count": 184,
     "metadata": {},
     "output_type": "execute_result"
    }
   ],
   "source": [
    "# GridSearch for optimal parameter: reg_alpha\n",
    "param_test4 = {\n",
    "    'reg_alpha':[0, 0.001, 0.005, 0.01, 0.05]\n",
    "}\n",
    "gsearch4 = GridSearchCV(estimator = XGBClassifier( learning_rate =0.1, n_estimators=177, max_depth=4,\n",
    "                                        min_child_weight=6, gamma=0.1, subsample=0.8, colsample_bytree=0.8,\n",
    "                                        objective= 'binary:logistic', nthread=4, scale_pos_weight=1,seed=27), \n",
    "                       param_grid = param_test4, scoring='roc_auc',n_jobs=4,iid=False, cv=5)\n",
    "gsearch4.fit(x_train,y_train)\n",
    "\n",
    "gsearch4.best_params_,gsearch4.best_score_"
   ]
  },
  {
   "cell_type": "markdown",
   "metadata": {},
   "source": [
    "## 4.3 Evaluate the Model performance \n",
    "**<font color=red>xgboost has bad performance classifying the minor data samples into true category.</font>**"
   ]
  },
  {
   "cell_type": "code",
   "execution_count": 200,
   "metadata": {},
   "outputs": [
    {
     "name": "stdout",
     "output_type": "stream",
     "text": [
      "\n",
      "building model...\n",
      "Accuracy : 0.9956\n",
      "AUC on training set: 0.571931\n",
      "confusion matrix:\n",
      "\n",
      "[[38041   168]\n",
      " [    0     0]]\n"
     ]
    }
   ],
   "source": [
    "xgbclf = XGBClassifier(\n",
    "        learning_rate =0.1,\n",
    "        n_estimators=1000,\n",
    "        max_depth=4,\n",
    "        min_child_weight=5,\n",
    "        gamma=0,\n",
    "        subsample=0.8,\n",
    "        colsample_bytree=0.8,\n",
    "        reg_alpha=0,\n",
    "        objective= 'binary:logistic',\n",
    "        nthread=4,\n",
    "        scale_pos_weight=1,\n",
    "        seed=27)\n",
    "modelfit(xgbclf, x_train, x_test, y_train)"
   ]
  },
  {
   "cell_type": "markdown",
   "metadata": {},
   "source": [
    "# 5. Process with highly unbalanced data\n",
    "\n",
    "**<font color=red>the statistical infomation below tells us that among 38041 data samples, we only have 168 positive data samples, which could greatly bias the classification results.</font>**"
   ]
  },
  {
   "cell_type": "code",
   "execution_count": 201,
   "metadata": {},
   "outputs": [
    {
     "name": "stdout",
     "output_type": "stream",
     "text": [
      "Number of negative samples:  38041\n",
      "Number of positive samples:  168\n",
      "0:1 =  221.1\n"
     ]
    }
   ],
   "source": [
    "print(\"Number of negative samples: \",train.y_buy.value_counts()[0])\n",
    "print(\"Number of positive samples: \",train.y_buy.value_counts()[1])\n",
    "print(\"0:1 = \",221.1)"
   ]
  },
  {
   "cell_type": "markdown",
   "metadata": {},
   "source": [
    "**<font color=red>Normally, oversampling and undersampling are used to deal with such a problem.</font>**"
   ]
  },
  {
   "cell_type": "markdown",
   "metadata": {},
   "source": [
    "![title](resampling.png)"
   ]
  },
  {
   "cell_type": "markdown",
   "metadata": {},
   "source": [
    "## 5.1 navie random over-sampling\n",
    "#### generate new samples by randomly sampling with replacement the current available samples."
   ]
  },
  {
   "cell_type": "code",
   "execution_count": 202,
   "metadata": {},
   "outputs": [
    {
     "name": "stdout",
     "output_type": "stream",
     "text": [
      "The number for each category:\n",
      "[(0, 38041), (1, 38041)]\n"
     ]
    }
   ],
   "source": [
    "from imblearn.over_sampling import RandomOverSampler\n",
    "from collections import Counter\n",
    "\n",
    "ros = RandomOverSampler(random_state=0)\n",
    "X_ros, y_ros = ros.fit_resample(x_train, y_train)\n",
    "\n",
    "print('The number for each category:')\n",
    "print(sorted(Counter(y_ros).items()))"
   ]
  },
  {
   "cell_type": "markdown",
   "metadata": {},
   "source": [
    "## 5.2 Over-sampling using SMOTE and ADASYN"
   ]
  },
  {
   "cell_type": "code",
   "execution_count": 203,
   "metadata": {},
   "outputs": [
    {
     "name": "stdout",
     "output_type": "stream",
     "text": [
      "SMOTE sampling rsults:\n",
      "[(0, 38041), (1, 38041)]\n",
      "ADASYN sampling results:\n",
      "[(0, 38041), (1, 37964)]\n"
     ]
    }
   ],
   "source": [
    "from imblearn.over_sampling import SMOTE, ADASYN\n",
    "\n",
    "X_SMOTE, y_SMOTE = SMOTE().fit_resample(x_train, y_train)\n",
    "print('SMOTE sampling rsults:')\n",
    "print(sorted(Counter(y_SMOTE).items()))\n",
    "\n",
    "\n",
    "X_ADASYN, y_ADASYN = ADASYN().fit_resample(x_train, y_train)\n",
    "print('ADASYN sampling results:')\n",
    "print(sorted(Counter(y_ADASYN).items()))"
   ]
  },
  {
   "cell_type": "markdown",
   "metadata": {},
   "source": [
    "## 5.3 Traing LR on new data set"
   ]
  },
  {
   "cell_type": "code",
   "execution_count": 97,
   "metadata": {},
   "outputs": [
    {
     "name": "stderr",
     "output_type": "stream",
     "text": [
      "C:\\Users\\Think\\.julia\\conda\\3\\lib\\site-packages\\sklearn\\linear_model\\logistic.py:433: FutureWarning: Default solver will be changed to 'lbfgs' in 0.22. Specify a solver to silence this warning.\n",
      "  FutureWarning)\n"
     ]
    },
    {
     "name": "stdout",
     "output_type": "stream",
     "text": [
      "random over-sampling:\n",
      "0.7750979206645462\n",
      "{'C': 0.04, 'penalty': 'l2'}\n",
      "------------------------------\n"
     ]
    },
    {
     "name": "stderr",
     "output_type": "stream",
     "text": [
      "C:\\Users\\Think\\.julia\\conda\\3\\lib\\site-packages\\sklearn\\linear_model\\logistic.py:433: FutureWarning: Default solver will be changed to 'lbfgs' in 0.22. Specify a solver to silence this warning.\n",
      "  FutureWarning)\n"
     ]
    },
    {
     "name": "stdout",
     "output_type": "stream",
     "text": [
      "SMOTE over-sampling:\n",
      "0.8163560369075471\n",
      "{'C': 0.04, 'penalty': 'l2'}\n",
      "------------------------------\n"
     ]
    },
    {
     "name": "stderr",
     "output_type": "stream",
     "text": [
      "C:\\Users\\Think\\.julia\\conda\\3\\lib\\site-packages\\sklearn\\linear_model\\logistic.py:433: FutureWarning: Default solver will be changed to 'lbfgs' in 0.22. Specify a solver to silence this warning.\n",
      "  FutureWarning)\n"
     ]
    },
    {
     "name": "stdout",
     "output_type": "stream",
     "text": [
      "ADASYN over-sampling:\n",
      "0.8155384514176699\n",
      "{'C': 0.04, 'penalty': 'l2'}\n",
      "Confusion matrix:\n",
      "[[32139 11211]\n",
      " [ 5902 26830]] \n",
      " -------------------------------------------------- \n",
      " [[32640  8516]\n",
      " [ 5401 29525]] \n",
      " -------------------------------------------------- \n",
      " [[32612  8455]\n",
      " [ 5429 29509]]\n"
     ]
    }
   ],
   "source": [
    "param_grid = {\n",
    "               'C': [0.04,0.08,0.12],\n",
    "              'penalty':[\"l1\",\"l2\"]\n",
    "             }\n",
    "\n",
    "lr = LogisticRegression()\n",
    "\n",
    "\n",
    "lrc1 = GridSearchCV(lr, param_grid, scoring = 'accuracy', cv=5, n_jobs=2)\n",
    "lrc1.fit(X_ros, y_ros)\n",
    "print('random over-sampling:')\n",
    "print(lrc1.best_score_)\n",
    "print(lrc1.best_params_)\n",
    "print('-'*30)\n",
    "\n",
    "\n",
    "lrc2 = GridSearchCV(lr, param_grid, scoring = 'accuracy', cv=5, n_jobs=2)\n",
    "lrc2.fit(X_SMOTE, y_SMOTE)\n",
    "print('SMOTE over-sampling:')\n",
    "print(lrc2.best_score_)\n",
    "print(lrc2.best_params_)\n",
    "print('-'*30)\n",
    "\n",
    "\n",
    "lrc3 = GridSearchCV(lr, param_grid, scoring = 'accuracy', cv=5, n_jobs=2)\n",
    "lrc3.fit(X_ADASYN, y_ADASYN)\n",
    "print('ADASYN over-sampling:')\n",
    "print(lrc3.best_score_)\n",
    "print(lrc3.best_params_)\n",
    "\n",
    "print('Confusion matrix:')\n",
    "print(confusion_matrix(lrc1.predict(X_ros),y_ros),'\\n','-'*50,'\\n',\n",
    "     confusion_matrix(lrc2.predict(X_SMOTE),y_SMOTE),'\\n','-'*50,'\\n',\n",
    "     confusion_matrix(lrc3.predict(X_ADASYN),y_ADASYN))"
   ]
  },
  {
   "cell_type": "markdown",
   "metadata": {},
   "source": [
    "## 5.4 Training RF again on new data set with SMOTE over-sampling"
   ]
  },
  {
   "cell_type": "code",
   "execution_count": 49,
   "metadata": {},
   "outputs": [
    {
     "name": "stdout",
     "output_type": "stream",
     "text": [
      "0.9937034992244393\n",
      "{'max_features': 0.93, 'n_estimators': 220}\n"
     ]
    }
   ],
   "source": [
    "param_grid = {\n",
    "               'n_estimators': [180,200,220],\n",
    "              'max_features':[0.9,0.93,0.96]\n",
    "             }\n",
    "\n",
    "rf = RandomForestClassifier()\n",
    "rfc_SMOTE = GridSearchCV(rf, param_grid, scoring = 'accuracy', cv=5, n_jobs=2)\n",
    "rfc_SMOTE.fit(X_SMOTE, y_SMOTE)\n",
    "print(rfc_SMOTE.best_score_)\n",
    "print(rfc_SMOTE.best_params_)"
   ]
  },
  {
   "cell_type": "code",
   "execution_count": 51,
   "metadata": {},
   "outputs": [
    {
     "data": {
      "text/plain": [
       "array([[38036,     1],\n",
       "       [    1, 38036]], dtype=int64)"
      ]
     },
     "execution_count": 51,
     "metadata": {},
     "output_type": "execute_result"
    }
   ],
   "source": [
    "confusion_matrix(rfc_SMOTE.predict(X_SMOTE),y_SMOTE)"
   ]
  },
  {
   "cell_type": "markdown",
   "metadata": {},
   "source": [
    "## 5.5 Traing xgboost on new data set with SMOTE over-sampling"
   ]
  },
  {
   "cell_type": "code",
   "execution_count": 204,
   "metadata": {},
   "outputs": [
    {
     "name": "stdout",
     "output_type": "stream",
     "text": [
      "\n",
      "building model...\n",
      "Accuracy : 0.9978\n",
      "AUC on training set: 0.999894\n",
      "confusion matrix:\n",
      "\n",
      "[[38026   153]\n",
      " [   15 37888]]\n"
     ]
    }
   ],
   "source": [
    "xgbclf_ = XGBClassifier(\n",
    "        learning_rate =0.1,\n",
    "        n_estimators=1000,\n",
    "        max_depth=4,\n",
    "        min_child_weight=5,\n",
    "        gamma=0,\n",
    "        subsample=0.8,\n",
    "        colsample_bytree=0.8,\n",
    "        reg_alpha=0,\n",
    "        objective= 'binary:logistic',\n",
    "        nthread=4,\n",
    "        scale_pos_weight=1,\n",
    "        seed=27)\n",
    "\n",
    "modelfit(xgbclf_, X_SMOTE, x_test, y_SMOTE)"
   ]
  },
  {
   "cell_type": "markdown",
   "metadata": {},
   "source": [
    "# 6. Submission\n",
    "**<font color=red>By looking at the output of these three model, we finally choose RandomForest as the final model for predicting the test data set.</font>**\n",
    "\n",
    "#### Final model: random forest trained on SMOTE data set(rfc_SMOTE)\n",
    "#### Parameter: \"max_features:\" 0.93     \"n_estimators:\" 220"
   ]
  },
  {
   "cell_type": "code",
   "execution_count": 68,
   "metadata": {},
   "outputs": [],
   "source": [
    "y_test = rfc_SMOTE.predict_proba(x_test)\n",
    "\n",
    "df = pd.DataFrame({\"y_preds\": y_test[:,1]})\n",
    "df.to_csv(\"submission.csv\", index=True)"
   ]
  }
 ],
 "metadata": {
  "kernelspec": {
   "display_name": "Python 3",
   "language": "python",
   "name": "python3"
  },
  "language_info": {
   "codemirror_mode": {
    "name": "ipython",
    "version": 3
   },
   "file_extension": ".py",
   "mimetype": "text/x-python",
   "name": "python",
   "nbconvert_exporter": "python",
   "pygments_lexer": "ipython3",
   "version": "3.6.5"
  }
 },
 "nbformat": 4,
 "nbformat_minor": 2
}
